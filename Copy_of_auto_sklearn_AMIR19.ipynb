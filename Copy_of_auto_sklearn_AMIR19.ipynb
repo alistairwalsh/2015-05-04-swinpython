{
  "nbformat": 4,
  "nbformat_minor": 0,
  "metadata": {
    "colab": {
      "name": "Copy of auto-sklearn_AMIR19.ipynb",
      "provenance": [],
      "include_colab_link": true
    },
    "kernelspec": {
      "name": "python3",
      "display_name": "Python 3"
    }
  },
  "cells": [
    {
      "cell_type": "markdown",
      "metadata": {
        "id": "view-in-github",
        "colab_type": "text"
      },
      "source": [
        "<a href=\"https://colab.research.google.com/github/alistairwalsh/2015-05-04-swinpython/blob/add-config-wiki-link/Copy_of_auto_sklearn_AMIR19.ipynb\" target=\"_parent\"><img src=\"https://colab.research.google.com/assets/colab-badge.svg\" alt=\"Open In Colab\"/></a>"
      ]
    },
    {
      "cell_type": "markdown",
      "metadata": {
        "id": "Y0eMvVqEGuV0",
        "colab_type": "text"
      },
      "source": [
        "# Auto-Sklearn\n",
        "\n",
        "auto-sklearn is an automated machine learning toolkit and a drop-in replacement for a scikit-learn estimator.\n",
        "It frees a machine learning user from algorithm selection and hyperparameter tuning. It leverages recent advantages in Bayesian optimization, meta-learning and ensemble construction.\n",
        "\n",
        "[Docu](https://automl.github.io/auto-sklearn/master/),\n",
        "[Paper](https://papers.nips.cc/paper/5872-efficient-and-robust-automated-machine-learning)\n",
        "\n",
        "Notebook author: Marius Lindauer ([www.automl.org](https://www.automl.org))"
      ]
    },
    {
      "cell_type": "markdown",
      "metadata": {
        "id": "ONJ7fd7sqciK",
        "colab_type": "text"
      },
      "source": [
        "# Installation\n",
        "\n",
        "The notebook was created based on \n",
        "scikit-learn 0.19.2, smac 0.8.0 and auto-sklearn 0.5.1."
      ]
    },
    {
      "cell_type": "code",
      "metadata": {
        "id": "0i3oHFF5qgGO",
        "colab_type": "code",
        "colab": {}
      },
      "source": [
        "!apt-get install swig -y\n",
        "!pip install Cython numpy\n",
        "\n",
        "# sometimes you have to run the next command twice on colab\n",
        "# I haven't figured out why\n",
        "!pip install auto-sklearn"
      ],
      "execution_count": null,
      "outputs": []
    },
    {
      "cell_type": "code",
      "metadata": {
        "id": "UInC289AuB75",
        "colab_type": "code",
        "colab": {}
      },
      "source": [
        "# ignore some annoying warnings for demonstrating auto-sklearn \n",
        "# shouldn't be done in real production\n",
        "import numpy as np\n",
        "np.warnings.filterwarnings('ignore')"
      ],
      "execution_count": null,
      "outputs": []
    },
    {
      "cell_type": "markdown",
      "metadata": {
        "id": "0JUWCq3vsE8P",
        "colab_type": "text"
      },
      "source": [
        "# 1st Example\n",
        "\n",
        "We want to train a classifier for the [digits](http://archive.ics.uci.edu/ml/datasets/Pen-Based+Recognition+of+Handwritten+Digits) dataset.\n",
        "All we do is to split the dataset into training and test data,\n",
        "pass the training data to auto-sklearn\n",
        "and evaluate the trained model on test data.\n"
      ]
    },
    {
      "cell_type": "code",
      "metadata": {
        "id": "DAoEV5boHiy6",
        "colab_type": "code",
        "colab": {}
      },
      "source": [
        "import sklearn.model_selection\n",
        "import sklearn.datasets\n",
        "import sklearn.metrics\n",
        "\n",
        "# Load data\n",
        "X, y = sklearn.datasets.load_digits(return_X_y=True)\n",
        "X_train, X_test, y_train, y_test = \\\n",
        "        sklearn.model_selection.train_test_split(X, y, random_state=1)"
      ],
      "execution_count": null,
      "outputs": []
    },
    {
      "cell_type": "code",
      "metadata": {
        "id": "nlaiS3Ouq9Tm",
        "colab_type": "code",
        "colab": {}
      },
      "source": [
        "import autosklearn.classification\n",
        "\n",
        "# configure auto-sklearn\n",
        "automl = autosklearn.classification.AutoSklearnClassifier(\n",
        "          time_left_for_this_task=120, # run auto-sklearn for at most 2min\n",
        "          per_run_time_limit=30, # spend at most 30 sec for each model training\n",
        "          )\n",
        "\n",
        "# train model(s)\n",
        "automl.fit(X_train, y_train)\n",
        "\n",
        "# evaluate\n",
        "y_hat = automl.predict(X_test)\n",
        "test_acc = sklearn.metrics.accuracy_score(y_test, y_hat)\n",
        "print(\"Test Accuracy score {0}\".format(test_acc))"
      ],
      "execution_count": null,
      "outputs": []
    },
    {
      "cell_type": "markdown",
      "metadata": {
        "id": "PpTBJPqJDs9m",
        "colab_type": "text"
      },
      "source": [
        "The accuracy might not be quite state-of-the-art after running auto-sklearn only for two minutes. If you want to achieve better results, please try to increase the time limit `time_left_for_this_task`."
      ]
    },
    {
      "cell_type": "markdown",
      "metadata": {
        "id": "MLdDHzw1vVE0",
        "colab_type": "text"
      },
      "source": [
        "## Inspect some statistics of our first example\n",
        "\n",
        "Please note that auto-sklearn has internally used a holdout set of the traning set to estimate the quality of the trained model. Based on this hold-out validation set, auto-sklearn reports a validation score."
      ]
    },
    {
      "cell_type": "code",
      "metadata": {
        "id": "3C95UsaTvOUU",
        "colab_type": "code",
        "colab": {}
      },
      "source": [
        "print(automl.sprint_statistics())"
      ],
      "execution_count": null,
      "outputs": []
    },
    {
      "cell_type": "markdown",
      "metadata": {
        "id": "FHvemfQ-wGVg",
        "colab_type": "text"
      },
      "source": [
        "## Inspect Ensemble\n",
        "\n",
        "Auto-sklearn considers all trained models as potential candidates to build an ensemble out of these.\n",
        "The following command allows you to see the ensemble.\n",
        "\n",
        "Since the ensemble does not use a simple majority voting, but a weighted ensemble,\n",
        "the fomat is the following:\n",
        "\n",
        "`(ensemble weight, machine learning pipeline)`"
      ]
    },
    {
      "cell_type": "code",
      "metadata": {
        "id": "sjUfS9IuwAn8",
        "colab_type": "code",
        "colab": {}
      },
      "source": [
        "print(automl.show_models())"
      ],
      "execution_count": null,
      "outputs": []
    },
    {
      "cell_type": "markdown",
      "metadata": {
        "id": "Ut4_nS5gvktl",
        "colab_type": "text"
      },
      "source": [
        "# 2nd Example: Holdout resampling\n",
        "\n",
        "Now, let's switch to a different dataset, breast_cancer"
      ]
    },
    {
      "cell_type": "code",
      "metadata": {
        "id": "78olkYlBvf50",
        "colab_type": "code",
        "colab": {}
      },
      "source": [
        "import sklearn.model_selection\n",
        "import sklearn.datasets\n",
        "import sklearn.metrics\n",
        "\n",
        "import autosklearn.classification\n",
        "\n",
        "X, y = sklearn.datasets.load_breast_cancer(return_X_y=True)\n",
        "X_train, X_test, y_train, y_test = \\\n",
        "    sklearn.model_selection.train_test_split(X, y, random_state=1)\n",
        "\n",
        "automl = autosklearn.classification.AutoSklearnClassifier(\n",
        "          time_left_for_this_task=120,\n",
        "          per_run_time_limit=30,\n",
        "          disable_evaluator_output=False,\n",
        "          resampling_strategy='holdout',\n",
        "          resampling_strategy_arguments={'train_size': 0.80}\n",
        "          )\n",
        "\n",
        "automl.fit(X_train, y_train, dataset_name='breast_cancer')\n",
        "\n",
        "y_hat = automl.predict(X_test)\n",
        "test_acc = sklearn.metrics.accuracy_score(y_test, y_hat)\n",
        "print(\"Test Accuracy score: {0}\".format(test_acc))"
      ],
      "execution_count": null,
      "outputs": []
    },
    {
      "cell_type": "code",
      "metadata": {
        "id": "euie7zU0wuK0",
        "colab_type": "code",
        "colab": {}
      },
      "source": [
        ""
      ],
      "execution_count": null,
      "outputs": []
    }
  ]
}